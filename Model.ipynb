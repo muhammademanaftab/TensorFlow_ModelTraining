{
 "cells": [
  {
   "cell_type": "code",
   "execution_count": 94,
   "id": "eb95cd0b-f9ae-4dc5-8d56-81d757294bfd",
   "metadata": {},
   "outputs": [],
   "source": [
    "import pandas as pd\n",
    "import re\n",
    "import tensorflow as tf\n",
    "from tensorflow.keras.models import Sequential\n",
    "from tensorflow.keras.layers import Dense, Input\n",
    "from tensorflow.keras.optimizers import Adam\n",
    "from sklearn.model_selection import train_test_split\n",
    "from sklearn.preprocessing import MinMaxScaler\n",
    "from sklearn.metrics import mean_squared_error, r2_score\n",
    "import matplotlib.pyplot as plt\n"
   ]
  },
  {
   "cell_type": "code",
   "execution_count": 95,
   "id": "7ae83840",
   "metadata": {
    "_cell_guid": "b1076dfc-b9ad-4769-8c92-a6c4dae69d19",
    "_uuid": "8f2839f25d086af736a60e9eeb907d3b93b6e0e5",
    "papermill": {
     "duration": 0.983737,
     "end_time": "2024-10-29T19:26:55.150180",
     "exception": false,
     "start_time": "2024-10-29T19:26:54.166443",
     "status": "completed"
    },
    "tags": []
   },
   "outputs": [
    {
     "data": {
      "text/html": [
       "<div>\n",
       "<style scoped>\n",
       "    .dataframe tbody tr th:only-of-type {\n",
       "        vertical-align: middle;\n",
       "    }\n",
       "\n",
       "    .dataframe tbody tr th {\n",
       "        vertical-align: top;\n",
       "    }\n",
       "\n",
       "    .dataframe thead th {\n",
       "        text-align: right;\n",
       "    }\n",
       "</style>\n",
       "<table border=\"1\" class=\"dataframe\">\n",
       "  <thead>\n",
       "    <tr style=\"text-align: right;\">\n",
       "      <th></th>\n",
       "      <th>gender</th>\n",
       "      <th>race/ethnicity</th>\n",
       "      <th>parental level of education</th>\n",
       "      <th>lunch</th>\n",
       "      <th>test preparation course</th>\n",
       "      <th>math score</th>\n",
       "      <th>reading score</th>\n",
       "      <th>writing score</th>\n",
       "    </tr>\n",
       "  </thead>\n",
       "  <tbody>\n",
       "    <tr>\n",
       "      <th>0</th>\n",
       "      <td>female</td>\n",
       "      <td>group B</td>\n",
       "      <td>bachelor's degree</td>\n",
       "      <td>standard</td>\n",
       "      <td>none</td>\n",
       "      <td>72</td>\n",
       "      <td>72</td>\n",
       "      <td>74</td>\n",
       "    </tr>\n",
       "    <tr>\n",
       "      <th>1</th>\n",
       "      <td>female</td>\n",
       "      <td>group C</td>\n",
       "      <td>some college</td>\n",
       "      <td>standard</td>\n",
       "      <td>completed</td>\n",
       "      <td>69</td>\n",
       "      <td>90</td>\n",
       "      <td>88</td>\n",
       "    </tr>\n",
       "    <tr>\n",
       "      <th>2</th>\n",
       "      <td>female</td>\n",
       "      <td>group B</td>\n",
       "      <td>master's degree</td>\n",
       "      <td>standard</td>\n",
       "      <td>none</td>\n",
       "      <td>90</td>\n",
       "      <td>95</td>\n",
       "      <td>93</td>\n",
       "    </tr>\n",
       "    <tr>\n",
       "      <th>3</th>\n",
       "      <td>male</td>\n",
       "      <td>group A</td>\n",
       "      <td>associate's degree</td>\n",
       "      <td>free/reduced</td>\n",
       "      <td>none</td>\n",
       "      <td>47</td>\n",
       "      <td>57</td>\n",
       "      <td>44</td>\n",
       "    </tr>\n",
       "    <tr>\n",
       "      <th>4</th>\n",
       "      <td>male</td>\n",
       "      <td>group C</td>\n",
       "      <td>some college</td>\n",
       "      <td>standard</td>\n",
       "      <td>none</td>\n",
       "      <td>76</td>\n",
       "      <td>78</td>\n",
       "      <td>75</td>\n",
       "    </tr>\n",
       "  </tbody>\n",
       "</table>\n",
       "</div>"
      ],
      "text/plain": [
       "   gender race/ethnicity parental level of education         lunch  \\\n",
       "0  female        group B           bachelor's degree      standard   \n",
       "1  female        group C                some college      standard   \n",
       "2  female        group B             master's degree      standard   \n",
       "3    male        group A          associate's degree  free/reduced   \n",
       "4    male        group C                some college      standard   \n",
       "\n",
       "  test preparation course  math score  reading score  writing score  \n",
       "0                    none          72             72             74  \n",
       "1               completed          69             90             88  \n",
       "2                    none          90             95             93  \n",
       "3                    none          47             57             44  \n",
       "4                    none          76             78             75  "
      ]
     },
     "execution_count": 95,
     "metadata": {},
     "output_type": "execute_result"
    }
   ],
   "source": [
    "table_data = pd.read_csv(\"StudentsPerformance.csv\")\n",
    "table_data.head()"
   ]
  },
  {
   "cell_type": "code",
   "execution_count": 96,
   "id": "6c2b91f6",
   "metadata": {
    "papermill": {
     "duration": 0.013323,
     "end_time": "2024-10-29T19:26:55.166536",
     "exception": false,
     "start_time": "2024-10-29T19:26:55.153213",
     "status": "completed"
    },
    "tags": []
   },
   "outputs": [
    {
     "name": "stdout",
     "output_type": "stream",
     "text": [
      "Filtered column names :  Index(['gender', 'race/ethnicity', 'parental_level_of_education', 'lunch',\n",
      "       'test_preparation_course', 'math_score', 'reading_score',\n",
      "       'writing_score'],\n",
      "      dtype='object')\n"
     ]
    }
   ],
   "source": [
    "# remove extra spaces from start and end, if there is any spaces in middle convert them into underscore\n",
    "table_data.columns = [col.strip().replace(\" \", \"_\").lower() for col in table_data.columns]\n",
    "\n",
    "# if there is multiple spaces inside then those spaces converted into multiple underscore, so using re library and changing multiple spaces into single\n",
    "table_data.columns = [re.sub(r'_+', '_', col) for col in table_data.columns]\n",
    "\n",
    "print(\"Filtered column names : \", table_data.columns)"
   ]
  },
  {
   "cell_type": "code",
   "execution_count": 97,
   "id": "fe7c10fc",
   "metadata": {
    "papermill": {
     "duration": 0.014222,
     "end_time": "2024-10-29T19:26:55.183619",
     "exception": false,
     "start_time": "2024-10-29T19:26:55.169397",
     "status": "completed"
    },
    "tags": []
   },
   "outputs": [],
   "source": [
    "# creating a new col of total_score and avg_score for better evaluation\n",
    "table_data['total_score'] = table_data[['math_score', 'reading_score', 'writing_score']].sum(axis=1)\n",
    "table_data['average_score'] = table_data[['math_score', 'reading_score', 'writing_score']].mean(axis=1)"
   ]
  },
  {
   "cell_type": "code",
   "execution_count": 98,
   "id": "24166141",
   "metadata": {
    "papermill": {
     "duration": 0.013987,
     "end_time": "2024-10-29T19:26:55.200405",
     "exception": false,
     "start_time": "2024-10-29T19:26:55.186418",
     "status": "completed"
    },
    "tags": []
   },
   "outputs": [],
   "source": [
    "# Trying to encode the possibilities of each column if they have\n",
    "mappings = {\n",
    "    'gender': {'female': 0, 'male': 1},\n",
    "    'lunch': {'free/reduced': 0, 'standard': 1},\n",
    "    'test_preparation_course': {'none': 0, 'completed': 1}\n",
    "}"
   ]
  },
  {
   "cell_type": "code",
   "execution_count": 99,
   "id": "f481c737",
   "metadata": {
    "papermill": {
     "duration": 0.034106,
     "end_time": "2024-10-29T19:26:55.237421",
     "exception": false,
     "start_time": "2024-10-29T19:26:55.203315",
     "status": "completed"
    },
    "tags": []
   },
   "outputs": [
    {
     "name": "stdout",
     "output_type": "stream",
     "text": [
      "Dataset saved\n"
     ]
    }
   ],
   "source": [
    "# Applying that mapping to our original data to encode it, so that I will use this data\n",
    "for column, mapping in mappings.items():\n",
    "    if column in table_data.columns:\n",
    "        table_data[column] = table_data[column].map(mapping)\n",
    "\n",
    "# Saving the newly made data file as csv file, and not including the row numbers\n",
    "table_data.to_csv(\"FileteredTableFile.csv\", index=False)\n",
    "print(\"Dataset saved\")\n"
   ]
  },
  {
   "cell_type": "code",
   "execution_count": 106,
   "id": "443752b5-d2ee-482f-bb4c-e9a96eb5b764",
   "metadata": {},
   "outputs": [],
   "source": [
    "from sklearn.model_selection import train_test_split\n",
    "\n",
    "# defining x and y for testing and training\n",
    "X = table_data.drop(['average_score', 'total_score'], axis=1) \n",
    "y = table_data['average_score']  \n",
    "\n",
    "x_training_data,\n",
    "x_test_data, y_training_data, \n",
    "y_test_data = train_test_split(X , y ,\n",
    "test_size = 0.2 , random_state = 42)\n"
   ]
  },
  {
   "cell_type": "code",
   "execution_count": 101,
   "id": "38bdb5e0-70f6-401f-aaa8-a5c26e5e3aee",
   "metadata": {
    "scrolled": true
   },
   "outputs": [],
   "source": [
    "# for col, mapping in mappings.items():\n",
    "#     if col in X_train.columns:\n",
    "#         X_train[col] = X_train[col].map(mapping)\n",
    "#         X_test[col] = X_test[col].map(mapping)\n",
    "\n",
    "x_training_data = pd.get_dummies(x_training_data, drop_first=True)\n",
    "x_test_data = pd.get_dummies(x_test_data, drop_first=True)\n",
    "\n",
    "# filling nana vakues if exist\n",
    "x_test_data = x_test_data.reindex(columns=x_training_data.columns, fill_value=0)\n",
    "x_training_data = x_training_data.fillna(0) \n",
    "x_test_data = x_test_data.fillna(0)\n",
    "\n",
    "scale_to_increase = MinMaxScaler()\n",
    "X_training_scaled = scale_to_increase.fit_transform(x_training_data)\n",
    "X_testing_scaled = scale_to_increase.transform(x_test_data)\n"
   ]
  },
  {
   "cell_type": "code",
   "execution_count": 102,
   "id": "cb6c00d1-dbdc-40a7-bf01-1dc0c3b5c5b0",
   "metadata": {},
   "outputs": [],
   "source": [
    "# converting scale data into float type\n",
    "X_train_tensorflow = X_training_scaled.astype('float32')\n",
    "X_test_tensorflow = X_testing_scaled.astype('float32')\n",
    "y_train_tensoreflow = y_training_data.astype('float32')\n",
    "y_test_tensorflow = y_test_data.astype('float32')\n",
    "\n",
    "# making nerual network for filtering\n",
    "model_tf = Sequential([\n",
    "    Input(shape=(X_train_tensorflow.shape[1],)),\n",
    "    Dense(128, activation='relu'),\n",
    "    Dense(64, activation='relu'),\n",
    "    Dense(32, activation='relu'),\n",
    "    Dense(1)\n",
    "])\n"
   ]
  },
  {
   "cell_type": "code",
   "execution_count": 103,
   "id": "a4b4766f-41b3-478d-a7ad-711eaf72f7b1",
   "metadata": {},
   "outputs": [],
   "source": [
    "# making it for tensor flow to use\n",
    "X_train_tensorflow = x_training_data.astype('float32')\n",
    "\n",
    "X_test_tensorflow =  x_test_data.astype('float32')\n",
    "y_train_tensoreflow  = y_training_data.astype('float32')\n",
    "y_test_tensorflow = y_test_data.astype('float32')\n"
   ]
  },
  {
   "cell_type": "code",
   "execution_count": 104,
   "id": "1510493c-122c-435e-95af-416115b649cc",
   "metadata": {},
   "outputs": [],
   "source": [
    "\n",
    "model_tf=  Sequential([\n",
    "    Input(shape=(X_train_tensorflow.shape[1],)),Dense(64, activation='relu'),\n",
    "    Dense(32, activation='relu'),\n",
    "    Dense(1)\n",
    "])\n",
    "\n",
    "model_tf.compile( optimizer= Adam(learning_rate=0.001) ,  loss='mse', metrics=['mse'])"
   ]
  },
  {
   "cell_type": "code",
   "execution_count": 105,
   "id": "400f5d72-527f-48be-9a8d-77c445a6b535",
   "metadata": {},
   "outputs": [
    {
     "name": "stdout",
     "output_type": "stream",
     "text": [
      "Epoch 1/100\n",
      "\u001b[1m40/40\u001b[0m \u001b[32m━━━━━━━━━━━━━━━━━━━━\u001b[0m\u001b[37m\u001b[0m \u001b[1m3s\u001b[0m 19ms/step - loss: 882.3356 - mse: 882.3356 - val_loss: 9.4052 - val_mse: 9.4052\n",
      "Epoch 2/100\n",
      "\u001b[1m40/40\u001b[0m \u001b[32m━━━━━━━━━━━━━━━━━━━━\u001b[0m\u001b[37m\u001b[0m \u001b[1m0s\u001b[0m 11ms/step - loss: 11.6470 - mse: 11.6470 - val_loss: 2.9856 - val_mse: 2.9856\n",
      "Epoch 3/100\n",
      "\u001b[1m40/40\u001b[0m \u001b[32m━━━━━━━━━━━━━━━━━━━━\u001b[0m\u001b[37m\u001b[0m \u001b[1m0s\u001b[0m 8ms/step - loss: 2.2602 - mse: 2.2602 - val_loss: 0.9431 - val_mse: 0.9431\n",
      "Epoch 4/100\n",
      "\u001b[1m40/40\u001b[0m \u001b[32m━━━━━━━━━━━━━━━━━━━━\u001b[0m\u001b[37m\u001b[0m \u001b[1m0s\u001b[0m 9ms/step - loss: 1.0836 - mse: 1.0836 - val_loss: 0.6468 - val_mse: 0.6468\n",
      "Epoch 5/100\n",
      "\u001b[1m40/40\u001b[0m \u001b[32m━━━━━━━━━━━━━━━━━━━━\u001b[0m\u001b[37m\u001b[0m \u001b[1m0s\u001b[0m 8ms/step - loss: 0.7006 - mse: 0.7006 - val_loss: 0.5172 - val_mse: 0.5172\n",
      "Epoch 6/100\n",
      "\u001b[1m40/40\u001b[0m \u001b[32m━━━━━━━━━━━━━━━━━━━━\u001b[0m\u001b[37m\u001b[0m \u001b[1m0s\u001b[0m 8ms/step - loss: 0.5605 - mse: 0.5605 - val_loss: 0.3532 - val_mse: 0.3532\n",
      "Epoch 7/100\n",
      "\u001b[1m40/40\u001b[0m \u001b[32m━━━━━━━━━━━━━━━━━━━━\u001b[0m\u001b[37m\u001b[0m \u001b[1m0s\u001b[0m 8ms/step - loss: 0.4083 - mse: 0.4083 - val_loss: 0.3115 - val_mse: 0.3115\n",
      "Epoch 8/100\n",
      "\u001b[1m40/40\u001b[0m \u001b[32m━━━━━━━━━━━━━━━━━━━━\u001b[0m\u001b[37m\u001b[0m \u001b[1m0s\u001b[0m 8ms/step - loss: 0.3654 - mse: 0.3654 - val_loss: 0.2631 - val_mse: 0.2631\n",
      "Epoch 9/100\n",
      "\u001b[1m40/40\u001b[0m \u001b[32m━━━━━━━━━━━━━━━━━━━━\u001b[0m\u001b[37m\u001b[0m \u001b[1m0s\u001b[0m 8ms/step - loss: 0.3012 - mse: 0.3012 - val_loss: 0.2637 - val_mse: 0.2637\n",
      "Epoch 10/100\n",
      "\u001b[1m40/40\u001b[0m \u001b[32m━━━━━━━━━━━━━━━━━━━━\u001b[0m\u001b[37m\u001b[0m \u001b[1m0s\u001b[0m 8ms/step - loss: 0.2696 - mse: 0.2696 - val_loss: 0.2262 - val_mse: 0.2262\n",
      "Epoch 11/100\n",
      "\u001b[1m40/40\u001b[0m \u001b[32m━━━━━━━━━━━━━━━━━━━━\u001b[0m\u001b[37m\u001b[0m \u001b[1m0s\u001b[0m 8ms/step - loss: 0.2377 - mse: 0.2377 - val_loss: 0.1913 - val_mse: 0.1913\n",
      "Epoch 12/100\n",
      "\u001b[1m40/40\u001b[0m \u001b[32m━━━━━━━━━━━━━━━━━━━━\u001b[0m\u001b[37m\u001b[0m \u001b[1m0s\u001b[0m 10ms/step - loss: 0.2148 - mse: 0.2148 - val_loss: 0.1651 - val_mse: 0.1651\n",
      "Epoch 13/100\n",
      "\u001b[1m40/40\u001b[0m \u001b[32m━━━━━━━━━━━━━━━━━━━━\u001b[0m\u001b[37m\u001b[0m \u001b[1m0s\u001b[0m 8ms/step - loss: 0.1748 - mse: 0.1748 - val_loss: 0.1483 - val_mse: 0.1483\n",
      "Epoch 14/100\n",
      "\u001b[1m40/40\u001b[0m \u001b[32m━━━━━━━━━━━━━━━━━━━━\u001b[0m\u001b[37m\u001b[0m \u001b[1m0s\u001b[0m 8ms/step - loss: 0.1475 - mse: 0.1475 - val_loss: 0.1519 - val_mse: 0.1519\n",
      "Epoch 15/100\n",
      "\u001b[1m40/40\u001b[0m \u001b[32m━━━━━━━━━━━━━━━━━━━━\u001b[0m\u001b[37m\u001b[0m \u001b[1m0s\u001b[0m 8ms/step - loss: 0.1349 - mse: 0.1349 - val_loss: 0.1237 - val_mse: 0.1237\n",
      "Epoch 16/100\n",
      "\u001b[1m40/40\u001b[0m \u001b[32m━━━━━━━━━━━━━━━━━━━━\u001b[0m\u001b[37m\u001b[0m \u001b[1m0s\u001b[0m 8ms/step - loss: 0.1256 - mse: 0.1256 - val_loss: 0.1250 - val_mse: 0.1250\n",
      "Epoch 17/100\n",
      "\u001b[1m40/40\u001b[0m \u001b[32m━━━━━━━━━━━━━━━━━━━━\u001b[0m\u001b[37m\u001b[0m \u001b[1m0s\u001b[0m 8ms/step - loss: 0.1207 - mse: 0.1207 - val_loss: 0.1087 - val_mse: 0.1087\n",
      "Epoch 18/100\n",
      "\u001b[1m40/40\u001b[0m \u001b[32m━━━━━━━━━━━━━━━━━━━━\u001b[0m\u001b[37m\u001b[0m \u001b[1m0s\u001b[0m 10ms/step - loss: 0.1048 - mse: 0.1048 - val_loss: 0.0853 - val_mse: 0.0853\n",
      "Epoch 19/100\n",
      "\u001b[1m40/40\u001b[0m \u001b[32m━━━━━━━━━━━━━━━━━━━━\u001b[0m\u001b[37m\u001b[0m \u001b[1m1s\u001b[0m 12ms/step - loss: 0.0792 - mse: 0.0792 - val_loss: 0.0819 - val_mse: 0.0819\n",
      "Epoch 20/100\n",
      "\u001b[1m40/40\u001b[0m \u001b[32m━━━━━━━━━━━━━━━━━━━━\u001b[0m\u001b[37m\u001b[0m \u001b[1m0s\u001b[0m 9ms/step - loss: 0.0774 - mse: 0.0774 - val_loss: 0.0707 - val_mse: 0.0707\n",
      "Epoch 21/100\n",
      "\u001b[1m40/40\u001b[0m \u001b[32m━━━━━━━━━━━━━━━━━━━━\u001b[0m\u001b[37m\u001b[0m \u001b[1m0s\u001b[0m 8ms/step - loss: 0.0704 - mse: 0.0704 - val_loss: 0.0604 - val_mse: 0.0604\n",
      "Epoch 22/100\n",
      "\u001b[1m40/40\u001b[0m \u001b[32m━━━━━━━━━━━━━━━━━━━━\u001b[0m\u001b[37m\u001b[0m \u001b[1m0s\u001b[0m 8ms/step - loss: 0.0665 - mse: 0.0665 - val_loss: 0.0534 - val_mse: 0.0534\n",
      "Epoch 23/100\n",
      "\u001b[1m40/40\u001b[0m \u001b[32m━━━━━━━━━━━━━━━━━━━━\u001b[0m\u001b[37m\u001b[0m \u001b[1m1s\u001b[0m 12ms/step - loss: 0.0500 - mse: 0.0500 - val_loss: 0.0511 - val_mse: 0.0511\n",
      "Epoch 24/100\n",
      "\u001b[1m40/40\u001b[0m \u001b[32m━━━━━━━━━━━━━━━━━━━━\u001b[0m\u001b[37m\u001b[0m \u001b[1m0s\u001b[0m 8ms/step - loss: 0.0570 - mse: 0.0570 - val_loss: 0.0527 - val_mse: 0.0527\n",
      "Epoch 25/100\n",
      "\u001b[1m40/40\u001b[0m \u001b[32m━━━━━━━━━━━━━━━━━━━━\u001b[0m\u001b[37m\u001b[0m \u001b[1m0s\u001b[0m 11ms/step - loss: 0.0459 - mse: 0.0459 - val_loss: 0.0385 - val_mse: 0.0385\n",
      "Epoch 26/100\n",
      "\u001b[1m40/40\u001b[0m \u001b[32m━━━━━━━━━━━━━━━━━━━━\u001b[0m\u001b[37m\u001b[0m \u001b[1m0s\u001b[0m 8ms/step - loss: 0.0355 - mse: 0.0355 - val_loss: 0.0330 - val_mse: 0.0330\n",
      "Epoch 27/100\n",
      "\u001b[1m40/40\u001b[0m \u001b[32m━━━━━━━━━━━━━━━━━━━━\u001b[0m\u001b[37m\u001b[0m \u001b[1m0s\u001b[0m 9ms/step - loss: 0.0340 - mse: 0.0340 - val_loss: 0.0307 - val_mse: 0.0307\n",
      "Epoch 28/100\n",
      "\u001b[1m40/40\u001b[0m \u001b[32m━━━━━━━━━━━━━━━━━━━━\u001b[0m\u001b[37m\u001b[0m \u001b[1m0s\u001b[0m 8ms/step - loss: 0.0349 - mse: 0.0349 - val_loss: 0.0255 - val_mse: 0.0255\n",
      "Epoch 29/100\n",
      "\u001b[1m40/40\u001b[0m \u001b[32m━━━━━━━━━━━━━━━━━━━━\u001b[0m\u001b[37m\u001b[0m \u001b[1m1s\u001b[0m 12ms/step - loss: 0.0414 - mse: 0.0414 - val_loss: 0.0237 - val_mse: 0.0237\n",
      "Epoch 30/100\n",
      "\u001b[1m40/40\u001b[0m \u001b[32m━━━━━━━━━━━━━━━━━━━━\u001b[0m\u001b[37m\u001b[0m \u001b[1m0s\u001b[0m 8ms/step - loss: 0.0210 - mse: 0.0210 - val_loss: 0.0192 - val_mse: 0.0192\n",
      "Epoch 31/100\n",
      "\u001b[1m40/40\u001b[0m \u001b[32m━━━━━━━━━━━━━━━━━━━━\u001b[0m\u001b[37m\u001b[0m \u001b[1m0s\u001b[0m 8ms/step - loss: 0.0262 - mse: 0.0262 - val_loss: 0.0176 - val_mse: 0.0176\n",
      "Epoch 32/100\n",
      "\u001b[1m40/40\u001b[0m \u001b[32m━━━━━━━━━━━━━━━━━━━━\u001b[0m\u001b[37m\u001b[0m \u001b[1m0s\u001b[0m 8ms/step - loss: 0.0211 - mse: 0.0211 - val_loss: 0.0149 - val_mse: 0.0149\n",
      "Epoch 33/100\n",
      "\u001b[1m40/40\u001b[0m \u001b[32m━━━━━━━━━━━━━━━━━━━━\u001b[0m\u001b[37m\u001b[0m \u001b[1m0s\u001b[0m 8ms/step - loss: 0.0159 - mse: 0.0159 - val_loss: 0.0150 - val_mse: 0.0150\n",
      "Epoch 34/100\n",
      "\u001b[1m40/40\u001b[0m \u001b[32m━━━━━━━━━━━━━━━━━━━━\u001b[0m\u001b[37m\u001b[0m \u001b[1m0s\u001b[0m 8ms/step - loss: 0.0162 - mse: 0.0162 - val_loss: 0.0102 - val_mse: 0.0102\n",
      "Epoch 35/100\n",
      "\u001b[1m40/40\u001b[0m \u001b[32m━━━━━━━━━━━━━━━━━━━━\u001b[0m\u001b[37m\u001b[0m \u001b[1m0s\u001b[0m 11ms/step - loss: 0.0182 - mse: 0.0182 - val_loss: 0.0092 - val_mse: 0.0092\n",
      "Epoch 36/100\n",
      "\u001b[1m40/40\u001b[0m \u001b[32m━━━━━━━━━━━━━━━━━━━━\u001b[0m\u001b[37m\u001b[0m \u001b[1m0s\u001b[0m 8ms/step - loss: 0.0101 - mse: 0.0101 - val_loss: 0.0110 - val_mse: 0.0110\n",
      "Epoch 37/100\n",
      "\u001b[1m40/40\u001b[0m \u001b[32m━━━━━━━━━━━━━━━━━━━━\u001b[0m\u001b[37m\u001b[0m \u001b[1m0s\u001b[0m 8ms/step - loss: 0.0104 - mse: 0.0104 - val_loss: 0.0065 - val_mse: 0.0065\n",
      "Epoch 38/100\n",
      "\u001b[1m40/40\u001b[0m \u001b[32m━━━━━━━━━━━━━━━━━━━━\u001b[0m\u001b[37m\u001b[0m \u001b[1m0s\u001b[0m 8ms/step - loss: 0.0090 - mse: 0.0090 - val_loss: 0.0103 - val_mse: 0.0103\n",
      "Epoch 39/100\n",
      "\u001b[1m40/40\u001b[0m \u001b[32m━━━━━━━━━━━━━━━━━━━━\u001b[0m\u001b[37m\u001b[0m \u001b[1m0s\u001b[0m 9ms/step - loss: 0.0080 - mse: 0.0080 - val_loss: 0.0078 - val_mse: 0.0078\n",
      "Epoch 40/100\n",
      "\u001b[1m40/40\u001b[0m \u001b[32m━━━━━━━━━━━━━━━━━━━━\u001b[0m\u001b[37m\u001b[0m \u001b[1m0s\u001b[0m 8ms/step - loss: 0.0077 - mse: 0.0077 - val_loss: 0.0041 - val_mse: 0.0041\n",
      "Epoch 41/100\n",
      "\u001b[1m40/40\u001b[0m \u001b[32m━━━━━━━━━━━━━━━━━━━━\u001b[0m\u001b[37m\u001b[0m \u001b[1m0s\u001b[0m 9ms/step - loss: 0.0056 - mse: 0.0056 - val_loss: 0.0035 - val_mse: 0.0035\n",
      "Epoch 42/100\n",
      "\u001b[1m40/40\u001b[0m \u001b[32m━━━━━━━━━━━━━━━━━━━━\u001b[0m\u001b[37m\u001b[0m \u001b[1m0s\u001b[0m 8ms/step - loss: 0.0036 - mse: 0.0036 - val_loss: 0.0056 - val_mse: 0.0056\n",
      "Epoch 43/100\n",
      "\u001b[1m40/40\u001b[0m \u001b[32m━━━━━━━━━━━━━━━━━━━━\u001b[0m\u001b[37m\u001b[0m \u001b[1m0s\u001b[0m 9ms/step - loss: 0.0160 - mse: 0.0160 - val_loss: 0.0029 - val_mse: 0.0029\n",
      "Epoch 44/100\n",
      "\u001b[1m40/40\u001b[0m \u001b[32m━━━━━━━━━━━━━━━━━━━━\u001b[0m\u001b[37m\u001b[0m \u001b[1m0s\u001b[0m 10ms/step - loss: 0.0033 - mse: 0.0033 - val_loss: 0.0024 - val_mse: 0.0024\n",
      "Epoch 45/100\n",
      "\u001b[1m40/40\u001b[0m \u001b[32m━━━━━━━━━━━━━━━━━━━━\u001b[0m\u001b[37m\u001b[0m \u001b[1m0s\u001b[0m 8ms/step - loss: 0.0025 - mse: 0.0025 - val_loss: 0.0028 - val_mse: 0.0028\n",
      "Epoch 46/100\n",
      "\u001b[1m40/40\u001b[0m \u001b[32m━━━━━━━━━━━━━━━━━━━━\u001b[0m\u001b[37m\u001b[0m \u001b[1m0s\u001b[0m 8ms/step - loss: 0.0029 - mse: 0.0029 - val_loss: 0.0019 - val_mse: 0.0019\n",
      "Epoch 47/100\n",
      "\u001b[1m40/40\u001b[0m \u001b[32m━━━━━━━━━━━━━━━━━━━━\u001b[0m\u001b[37m\u001b[0m \u001b[1m0s\u001b[0m 8ms/step - loss: 0.0025 - mse: 0.0025 - val_loss: 0.0017 - val_mse: 0.0017\n",
      "Epoch 48/100\n",
      "\u001b[1m40/40\u001b[0m \u001b[32m━━━━━━━━━━━━━━━━━━━━\u001b[0m\u001b[37m\u001b[0m \u001b[1m0s\u001b[0m 8ms/step - loss: 0.0028 - mse: 0.0028 - val_loss: 0.0016 - val_mse: 0.0016\n",
      "Epoch 49/100\n",
      "\u001b[1m40/40\u001b[0m \u001b[32m━━━━━━━━━━━━━━━━━━━━\u001b[0m\u001b[37m\u001b[0m \u001b[1m0s\u001b[0m 8ms/step - loss: 0.0045 - mse: 0.0045 - val_loss: 0.0023 - val_mse: 0.0023\n",
      "Epoch 50/100\n",
      "\u001b[1m40/40\u001b[0m \u001b[32m━━━━━━━━━━━━━━━━━━━━\u001b[0m\u001b[37m\u001b[0m \u001b[1m0s\u001b[0m 8ms/step - loss: 0.0025 - mse: 0.0025 - val_loss: 0.0014 - val_mse: 0.0014\n",
      "Epoch 51/100\n",
      "\u001b[1m40/40\u001b[0m \u001b[32m━━━━━━━━━━━━━━━━━━━━\u001b[0m\u001b[37m\u001b[0m \u001b[1m0s\u001b[0m 8ms/step - loss: 0.0029 - mse: 0.0029 - val_loss: 0.0016 - val_mse: 0.0016\n",
      "Epoch 52/100\n",
      "\u001b[1m40/40\u001b[0m \u001b[32m━━━━━━━━━━━━━━━━━━━━\u001b[0m\u001b[37m\u001b[0m \u001b[1m0s\u001b[0m 10ms/step - loss: 0.0012 - mse: 0.0012 - val_loss: 0.0013 - val_mse: 0.0013\n",
      "Epoch 53/100\n",
      "\u001b[1m40/40\u001b[0m \u001b[32m━━━━━━━━━━━━━━━━━━━━\u001b[0m\u001b[37m\u001b[0m \u001b[1m0s\u001b[0m 8ms/step - loss: 0.0064 - mse: 0.0064 - val_loss: 0.0018 - val_mse: 0.0018\n",
      "Epoch 54/100\n",
      "\u001b[1m40/40\u001b[0m \u001b[32m━━━━━━━━━━━━━━━━━━━━\u001b[0m\u001b[37m\u001b[0m \u001b[1m0s\u001b[0m 8ms/step - loss: 0.0065 - mse: 0.0065 - val_loss: 0.0011 - val_mse: 0.0011\n",
      "Epoch 55/100\n",
      "\u001b[1m40/40\u001b[0m \u001b[32m━━━━━━━━━━━━━━━━━━━━\u001b[0m\u001b[37m\u001b[0m \u001b[1m0s\u001b[0m 8ms/step - loss: 0.0018 - mse: 0.0018 - val_loss: 0.0012 - val_mse: 0.0012\n",
      "Epoch 56/100\n",
      "\u001b[1m40/40\u001b[0m \u001b[32m━━━━━━━━━━━━━━━━━━━━\u001b[0m\u001b[37m\u001b[0m \u001b[1m0s\u001b[0m 9ms/step - loss: 0.0023 - mse: 0.0023 - val_loss: 0.0013 - val_mse: 0.0013\n",
      "Epoch 57/100\n",
      "\u001b[1m40/40\u001b[0m \u001b[32m━━━━━━━━━━━━━━━━━━━━\u001b[0m\u001b[37m\u001b[0m \u001b[1m1s\u001b[0m 14ms/step - loss: 0.0012 - mse: 0.0012 - val_loss: 0.0011 - val_mse: 0.0011\n",
      "Epoch 58/100\n",
      "\u001b[1m40/40\u001b[0m \u001b[32m━━━━━━━━━━━━━━━━━━━━\u001b[0m\u001b[37m\u001b[0m \u001b[1m1s\u001b[0m 13ms/step - loss: 0.0019 - mse: 0.0019 - val_loss: 9.5223e-04 - val_mse: 9.5223e-04\n",
      "Epoch 59/100\n",
      "\u001b[1m40/40\u001b[0m \u001b[32m━━━━━━━━━━━━━━━━━━━━\u001b[0m\u001b[37m\u001b[0m \u001b[1m1s\u001b[0m 11ms/step - loss: 0.0037 - mse: 0.0037 - val_loss: 9.2788e-04 - val_mse: 9.2788e-04\n",
      "Epoch 60/100\n",
      "\u001b[1m40/40\u001b[0m \u001b[32m━━━━━━━━━━━━━━━━━━━━\u001b[0m\u001b[37m\u001b[0m \u001b[1m1s\u001b[0m 11ms/step - loss: 0.0020 - mse: 0.0020 - val_loss: 0.0011 - val_mse: 0.0011\n",
      "Epoch 61/100\n",
      "\u001b[1m40/40\u001b[0m \u001b[32m━━━━━━━━━━━━━━━━━━━━\u001b[0m\u001b[37m\u001b[0m \u001b[1m0s\u001b[0m 8ms/step - loss: 0.0013 - mse: 0.0013 - val_loss: 0.0011 - val_mse: 0.0011\n",
      "Epoch 62/100\n",
      "\u001b[1m40/40\u001b[0m \u001b[32m━━━━━━━━━━━━━━━━━━━━\u001b[0m\u001b[37m\u001b[0m \u001b[1m0s\u001b[0m 9ms/step - loss: 0.0023 - mse: 0.0023 - val_loss: 0.0011 - val_mse: 0.0011\n",
      "Epoch 63/100\n",
      "\u001b[1m40/40\u001b[0m \u001b[32m━━━━━━━━━━━━━━━━━━━━\u001b[0m\u001b[37m\u001b[0m \u001b[1m0s\u001b[0m 8ms/step - loss: 0.0018 - mse: 0.0018 - val_loss: 8.4428e-04 - val_mse: 8.4428e-04\n",
      "Epoch 64/100\n",
      "\u001b[1m40/40\u001b[0m \u001b[32m━━━━━━━━━━━━━━━━━━━━\u001b[0m\u001b[37m\u001b[0m \u001b[1m0s\u001b[0m 10ms/step - loss: 0.0022 - mse: 0.0022 - val_loss: 0.0015 - val_mse: 0.0015\n",
      "Epoch 65/100\n",
      "\u001b[1m40/40\u001b[0m \u001b[32m━━━━━━━━━━━━━━━━━━━━\u001b[0m\u001b[37m\u001b[0m \u001b[1m0s\u001b[0m 8ms/step - loss: 0.0014 - mse: 0.0014 - val_loss: 8.2787e-04 - val_mse: 8.2787e-04\n",
      "Epoch 66/100\n",
      "\u001b[1m40/40\u001b[0m \u001b[32m━━━━━━━━━━━━━━━━━━━━\u001b[0m\u001b[37m\u001b[0m \u001b[1m0s\u001b[0m 8ms/step - loss: 0.0014 - mse: 0.0014 - val_loss: 7.9814e-04 - val_mse: 7.9814e-04\n",
      "Epoch 67/100\n",
      "\u001b[1m40/40\u001b[0m \u001b[32m━━━━━━━━━━━━━━━━━━━━\u001b[0m\u001b[37m\u001b[0m \u001b[1m0s\u001b[0m 8ms/step - loss: 0.0048 - mse: 0.0048 - val_loss: 8.2852e-04 - val_mse: 8.2852e-04\n",
      "Epoch 68/100\n",
      "\u001b[1m40/40\u001b[0m \u001b[32m━━━━━━━━━━━━━━━━━━━━\u001b[0m\u001b[37m\u001b[0m \u001b[1m0s\u001b[0m 8ms/step - loss: 7.8094e-04 - mse: 7.8094e-04 - val_loss: 9.2646e-04 - val_mse: 9.2646e-04\n",
      "Epoch 69/100\n",
      "\u001b[1m40/40\u001b[0m \u001b[32m━━━━━━━━━━━━━━━━━━━━\u001b[0m\u001b[37m\u001b[0m \u001b[1m0s\u001b[0m 8ms/step - loss: 0.0022 - mse: 0.0022 - val_loss: 0.0011 - val_mse: 0.0011\n",
      "Epoch 70/100\n",
      "\u001b[1m40/40\u001b[0m \u001b[32m━━━━━━━━━━━━━━━━━━━━\u001b[0m\u001b[37m\u001b[0m \u001b[1m1s\u001b[0m 13ms/step - loss: 5.7981e-04 - mse: 5.7981e-04 - val_loss: 7.7275e-04 - val_mse: 7.7275e-04\n",
      "Epoch 71/100\n",
      "\u001b[1m40/40\u001b[0m \u001b[32m━━━━━━━━━━━━━━━━━━━━\u001b[0m\u001b[37m\u001b[0m \u001b[1m0s\u001b[0m 8ms/step - loss: 0.0026 - mse: 0.0026 - val_loss: 9.1848e-04 - val_mse: 9.1848e-04\n",
      "Epoch 72/100\n",
      "\u001b[1m40/40\u001b[0m \u001b[32m━━━━━━━━━━━━━━━━━━━━\u001b[0m\u001b[37m\u001b[0m \u001b[1m0s\u001b[0m 8ms/step - loss: 9.8006e-04 - mse: 9.8006e-04 - val_loss: 7.3367e-04 - val_mse: 7.3367e-04\n",
      "Epoch 73/100\n",
      "\u001b[1m40/40\u001b[0m \u001b[32m━━━━━━━━━━━━━━━━━━━━\u001b[0m\u001b[37m\u001b[0m \u001b[1m0s\u001b[0m 8ms/step - loss: 9.1276e-04 - mse: 9.1276e-04 - val_loss: 8.7091e-04 - val_mse: 8.7091e-04\n",
      "Epoch 74/100\n",
      "\u001b[1m40/40\u001b[0m \u001b[32m━━━━━━━━━━━━━━━━━━━━\u001b[0m\u001b[37m\u001b[0m \u001b[1m1s\u001b[0m 11ms/step - loss: 0.0017 - mse: 0.0017 - val_loss: 6.9725e-04 - val_mse: 6.9725e-04\n",
      "Epoch 75/100\n",
      "\u001b[1m40/40\u001b[0m \u001b[32m━━━━━━━━━━━━━━━━━━━━\u001b[0m\u001b[37m\u001b[0m \u001b[1m0s\u001b[0m 11ms/step - loss: 0.0010 - mse: 0.0010 - val_loss: 8.3398e-04 - val_mse: 8.3398e-04\n",
      "Epoch 76/100\n",
      "\u001b[1m40/40\u001b[0m \u001b[32m━━━━━━━━━━━━━━━━━━━━\u001b[0m\u001b[37m\u001b[0m \u001b[1m0s\u001b[0m 8ms/step - loss: 9.5558e-04 - mse: 9.5558e-04 - val_loss: 6.8223e-04 - val_mse: 6.8223e-04\n",
      "Epoch 77/100\n",
      "\u001b[1m40/40\u001b[0m \u001b[32m━━━━━━━━━━━━━━━━━━━━\u001b[0m\u001b[37m\u001b[0m \u001b[1m0s\u001b[0m 8ms/step - loss: 0.0018 - mse: 0.0018 - val_loss: 9.6134e-04 - val_mse: 9.6134e-04\n",
      "Epoch 78/100\n",
      "\u001b[1m40/40\u001b[0m \u001b[32m━━━━━━━━━━━━━━━━━━━━\u001b[0m\u001b[37m\u001b[0m \u001b[1m1s\u001b[0m 11ms/step - loss: 0.0033 - mse: 0.0033 - val_loss: 8.0261e-04 - val_mse: 8.0261e-04\n",
      "Epoch 79/100\n",
      "\u001b[1m40/40\u001b[0m \u001b[32m━━━━━━━━━━━━━━━━━━━━\u001b[0m\u001b[37m\u001b[0m \u001b[1m1s\u001b[0m 11ms/step - loss: 6.3448e-04 - mse: 6.3448e-04 - val_loss: 7.7006e-04 - val_mse: 7.7006e-04\n",
      "Epoch 80/100\n",
      "\u001b[1m40/40\u001b[0m \u001b[32m━━━━━━━━━━━━━━━━━━━━\u001b[0m\u001b[37m\u001b[0m \u001b[1m0s\u001b[0m 8ms/step - loss: 5.4944e-04 - mse: 5.4944e-04 - val_loss: 6.5548e-04 - val_mse: 6.5548e-04\n",
      "Epoch 81/100\n",
      "\u001b[1m40/40\u001b[0m \u001b[32m━━━━━━━━━━━━━━━━━━━━\u001b[0m\u001b[37m\u001b[0m \u001b[1m1s\u001b[0m 10ms/step - loss: 0.0017 - mse: 0.0017 - val_loss: 6.4906e-04 - val_mse: 6.4906e-04\n",
      "Epoch 82/100\n",
      "\u001b[1m40/40\u001b[0m \u001b[32m━━━━━━━━━━━━━━━━━━━━\u001b[0m\u001b[37m\u001b[0m \u001b[1m1s\u001b[0m 11ms/step - loss: 5.7027e-04 - mse: 5.7027e-04 - val_loss: 8.9405e-04 - val_mse: 8.9405e-04\n",
      "Epoch 83/100\n",
      "\u001b[1m40/40\u001b[0m \u001b[32m━━━━━━━━━━━━━━━━━━━━\u001b[0m\u001b[37m\u001b[0m \u001b[1m1s\u001b[0m 13ms/step - loss: 0.0012 - mse: 0.0012 - val_loss: 6.3885e-04 - val_mse: 6.3885e-04\n",
      "Epoch 84/100\n",
      "\u001b[1m40/40\u001b[0m \u001b[32m━━━━━━━━━━━━━━━━━━━━\u001b[0m\u001b[37m\u001b[0m \u001b[1m1s\u001b[0m 11ms/step - loss: 4.8625e-04 - mse: 4.8625e-04 - val_loss: 5.8584e-04 - val_mse: 5.8584e-04\n",
      "Epoch 85/100\n",
      "\u001b[1m40/40\u001b[0m \u001b[32m━━━━━━━━━━━━━━━━━━━━\u001b[0m\u001b[37m\u001b[0m \u001b[1m0s\u001b[0m 9ms/step - loss: 3.4892e-04 - mse: 3.4892e-04 - val_loss: 6.7867e-04 - val_mse: 6.7867e-04\n",
      "Epoch 86/100\n",
      "\u001b[1m40/40\u001b[0m \u001b[32m━━━━━━━━━━━━━━━━━━━━\u001b[0m\u001b[37m\u001b[0m \u001b[1m1s\u001b[0m 11ms/step - loss: 0.0019 - mse: 0.0019 - val_loss: 6.1539e-04 - val_mse: 6.1539e-04\n",
      "Epoch 87/100\n",
      "\u001b[1m40/40\u001b[0m \u001b[32m━━━━━━━━━━━━━━━━━━━━\u001b[0m\u001b[37m\u001b[0m \u001b[1m0s\u001b[0m 10ms/step - loss: 3.6157e-04 - mse: 3.6157e-04 - val_loss: 9.2331e-04 - val_mse: 9.2331e-04\n",
      "Epoch 88/100\n",
      "\u001b[1m40/40\u001b[0m \u001b[32m━━━━━━━━━━━━━━━━━━━━\u001b[0m\u001b[37m\u001b[0m \u001b[1m0s\u001b[0m 10ms/step - loss: 5.7065e-04 - mse: 5.7065e-04 - val_loss: 6.4174e-04 - val_mse: 6.4174e-04\n",
      "Epoch 89/100\n",
      "\u001b[1m40/40\u001b[0m \u001b[32m━━━━━━━━━━━━━━━━━━━━\u001b[0m\u001b[37m\u001b[0m \u001b[1m0s\u001b[0m 8ms/step - loss: 4.6313e-04 - mse: 4.6313e-04 - val_loss: 6.2125e-04 - val_mse: 6.2125e-04\n",
      "Epoch 90/100\n",
      "\u001b[1m40/40\u001b[0m \u001b[32m━━━━━━━━━━━━━━━━━━━━\u001b[0m\u001b[37m\u001b[0m \u001b[1m0s\u001b[0m 8ms/step - loss: 2.9816e-04 - mse: 2.9816e-04 - val_loss: 0.0013 - val_mse: 0.0013\n",
      "Epoch 91/100\n",
      "\u001b[1m40/40\u001b[0m \u001b[32m━━━━━━━━━━━━━━━━━━━━\u001b[0m\u001b[37m\u001b[0m \u001b[1m0s\u001b[0m 8ms/step - loss: 9.6610e-04 - mse: 9.6610e-04 - val_loss: 5.4933e-04 - val_mse: 5.4933e-04\n",
      "Epoch 92/100\n",
      "\u001b[1m40/40\u001b[0m \u001b[32m━━━━━━━━━━━━━━━━━━━━\u001b[0m\u001b[37m\u001b[0m \u001b[1m0s\u001b[0m 10ms/step - loss: 3.3728e-04 - mse: 3.3728e-04 - val_loss: 5.5714e-04 - val_mse: 5.5714e-04\n",
      "Epoch 93/100\n",
      "\u001b[1m40/40\u001b[0m \u001b[32m━━━━━━━━━━━━━━━━━━━━\u001b[0m\u001b[37m\u001b[0m \u001b[1m0s\u001b[0m 9ms/step - loss: 3.2316e-04 - mse: 3.2316e-04 - val_loss: 5.6462e-04 - val_mse: 5.6462e-04\n",
      "Epoch 94/100\n",
      "\u001b[1m40/40\u001b[0m \u001b[32m━━━━━━━━━━━━━━━━━━━━\u001b[0m\u001b[37m\u001b[0m \u001b[1m1s\u001b[0m 11ms/step - loss: 6.7602e-04 - mse: 6.7602e-04 - val_loss: 5.5457e-04 - val_mse: 5.5457e-04\n",
      "Epoch 95/100\n",
      "\u001b[1m40/40\u001b[0m \u001b[32m━━━━━━━━━━━━━━━━━━━━\u001b[0m\u001b[37m\u001b[0m \u001b[1m0s\u001b[0m 8ms/step - loss: 5.4450e-04 - mse: 5.4450e-04 - val_loss: 8.8048e-04 - val_mse: 8.8048e-04\n",
      "Epoch 96/100\n",
      "\u001b[1m40/40\u001b[0m \u001b[32m━━━━━━━━━━━━━━━━━━━━\u001b[0m\u001b[37m\u001b[0m \u001b[1m0s\u001b[0m 8ms/step - loss: 5.9336e-04 - mse: 5.9336e-04 - val_loss: 5.5137e-04 - val_mse: 5.5137e-04\n",
      "Epoch 97/100\n",
      "\u001b[1m40/40\u001b[0m \u001b[32m━━━━━━━━━━━━━━━━━━━━\u001b[0m\u001b[37m\u001b[0m \u001b[1m0s\u001b[0m 9ms/step - loss: 5.1553e-04 - mse: 5.1553e-04 - val_loss: 5.6891e-04 - val_mse: 5.6891e-04\n",
      "Epoch 98/100\n",
      "\u001b[1m40/40\u001b[0m \u001b[32m━━━━━━━━━━━━━━━━━━━━\u001b[0m\u001b[37m\u001b[0m \u001b[1m0s\u001b[0m 8ms/step - loss: 3.8808e-04 - mse: 3.8808e-04 - val_loss: 8.7940e-04 - val_mse: 8.7940e-04\n",
      "Epoch 99/100\n",
      "\u001b[1m40/40\u001b[0m \u001b[32m━━━━━━━━━━━━━━━━━━━━\u001b[0m\u001b[37m\u001b[0m \u001b[1m0s\u001b[0m 10ms/step - loss: 6.2332e-04 - mse: 6.2332e-04 - val_loss: 5.4114e-04 - val_mse: 5.4114e-04\n",
      "Epoch 100/100\n",
      "\u001b[1m40/40\u001b[0m \u001b[32m━━━━━━━━━━━━━━━━━━━━\u001b[0m\u001b[37m\u001b[0m \u001b[1m0s\u001b[0m 8ms/step - loss: 3.3852e-04 - mse: 3.3852e-04 - val_loss: 7.0125e-04 - val_mse: 7.0125e-04\n"
     ]
    }
   ],
   "source": [
    "# running for training\n",
    "history_tf=  model_tf.fit(X_train_tensorflow ,   y_train_tensoreflow, validation_split=0.2, epochs=100 , batch_size=16, verbose=1)\n"
   ]
  },
  {
   "cell_type": "code",
   "execution_count": 92,
   "id": "4e029717-e9c1-45f5-b4a0-7dd03ff4e5c7",
   "metadata": {},
   "outputs": [
    {
     "data": {
      "image/png": "[encoded data removed]",
      "text/plain": [
       "<Figure size 640x480 with 1 Axes>"
      ]
     },
     "metadata": {},
     "output_type": "display_data"
    }
   ],
   "source": [
    "plt.plot(history_tf.history['loss'], label='Training Loss')\n",
    "plt.plot(history_tf.history['val_loss'], label='Validation Loss')\n",
    "plt.xlabel('Epoch')\n",
    "plt.ylabel('Los')\n",
    "plt.legend()\n",
    "plt.title('Training&Validation Loss')\n",
    "plt.show()"
   ]
  },
  {
   "cell_type": "code",
   "execution_count": null,
   "id": "19c3fefa-542b-46ee-856e-4160ec017778",
   "metadata": {},
   "outputs": [
    {
     "name": "stdout",
     "output_type": "stream",
     "text": [
      "\u001b[1m7/7\u001b[0m \u001b[32m━━━━━━━━━━━━━━━━━━━━\u001b[0m\u001b[37m\u001b[0m \u001b[1m0s\u001b[0m 25ms/step\n"
     ]
    },
    {
     "data": {
      "image/png": "[encoded data removed]",
      "text/plain": [
       "<Figure size 640x480 with 1 Axes>"
      ]
     },
     "metadata": {},
     "output_type": "display_data"
    },
    {
     "data": {
      "image/png": "[encoded data removed]",
      "text/plain": [
       "<Figure size 640x480 with 1 Axes>"
      ]
     },
     "metadata": {},
     "output_type": "display_data"
    }
   ],
   "source": [
    "\n",
    "y_pred_tf = model_tf.predict(X_test_tensorflow)\n",
    "residuals_tf = y_test_tensorflow  - y_pred_tf.flatten()\n",
    "plt.scatter(y_pred_tf , residuals_tf, alpha=0.6)\n",
    "\n",
    "\n",
    "plt.axhline( 0, color='red', linestyle='--')\n",
    "\n",
    "plt.xlabel('Predicted Values')\n",
    "\n",
    "plt.ylabel('Residual')\n",
    "plt.title('Residual Plot(Using TensorFlow)')\n",
    "\n",
    "plt.show()\n",
    "\n",
    "plt.scatter(y_test_tensorflow, y_pred_tf, alpha=0.6)\n",
    "\n",
    "plt.plot([y_test_tensorflow.min(), y_test_tensorflow.max()], [y_test_tensorflow.min(), y_test_tensorflow.max()], color='red', linestyle='--')\n",
    "plt.xlabel('Actual')\n",
    "\n",
    "plt.ylabel('Predicted')\n",
    "\n",
    "plt.title('Actual vs Predicted (Using TensorFlow)')\n",
    "\n",
    "plt.show()"
   ]
  }
 ],
 "metadata": {
  "kaggle": {
   "accelerator": "none",
   "dataSources": [
    {
     "datasetId": 74977,
     "sourceId": 169835,
     "sourceType": "datasetVersion"
    }
   ],
   "dockerImageVersionId": 30786,
   "isGpuEnabled": false,
   "isInternetEnabled": true,
   "language": "python",
   "sourceType": "notebook"
  },
  "kernelspec": {
   "display_name": "Python 3 (ipykernel)",
   "language": "python",
   "name": "python3"
  },
  "language_info": {
   "codemirror_mode": {
    "name": "ipython",
    "version": 3
   },
   "file_extension": ".py",
   "mimetype": "text/x-python",
   "name": "python",
   "nbconvert_exporter": "python",
   "pygments_lexer": "ipython3",
   "version": "3.11.1"
  },
  "papermill": {
   "default_parameters": {},
   "duration": 4.49661,
   "end_time": "2024-10-29T19:26:55.761642",
   "environment_variables": {},
   "exception": null,
   "input_path": "__notebook__.ipynb",
   "output_path": "__notebook__.ipynb",
   "parameters": {},
   "start_time": "2024-10-29T19:26:51.265032",
   "version": "2.6.0"
  }
 },
 "nbformat": 4,
 "nbformat_minor": 5
}
